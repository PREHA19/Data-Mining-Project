{
 "cells": [
  {
   "cell_type": "code",
   "execution_count": 1,
   "id": "3aac4651",
   "metadata": {},
   "outputs": [],
   "source": [
    "import pandas as pd\n",
    "import numpy as np\n",
    "import matplotlib.pyplot as plt"
   ]
  },
  {
   "cell_type": "code",
   "execution_count": 2,
   "id": "9109542d",
   "metadata": {},
   "outputs": [],
   "source": [
    "df=pd.read_csv(\"customer_supermarket.csv\", sep='\\t',index_col=0,decimal=',')"
   ]
  },
  {
   "cell_type": "code",
   "execution_count": 3,
   "id": "6550bc16",
   "metadata": {},
   "outputs": [
    {
     "data": {
      "text/html": [
       "<div>\n",
       "<style scoped>\n",
       "    .dataframe tbody tr th:only-of-type {\n",
       "        vertical-align: middle;\n",
       "    }\n",
       "\n",
       "    .dataframe tbody tr th {\n",
       "        vertical-align: top;\n",
       "    }\n",
       "\n",
       "    .dataframe thead th {\n",
       "        text-align: right;\n",
       "    }\n",
       "</style>\n",
       "<table border=\"1\" class=\"dataframe\">\n",
       "  <thead>\n",
       "    <tr style=\"text-align: right;\">\n",
       "      <th></th>\n",
       "      <th>BasketID</th>\n",
       "      <th>BasketDate</th>\n",
       "      <th>Sale</th>\n",
       "      <th>CustomerID</th>\n",
       "      <th>CustomerCountry</th>\n",
       "      <th>ProdID</th>\n",
       "      <th>ProdDescr</th>\n",
       "      <th>Qta</th>\n",
       "    </tr>\n",
       "  </thead>\n",
       "  <tbody>\n",
       "    <tr>\n",
       "      <th>0</th>\n",
       "      <td>536365</td>\n",
       "      <td>01/12/10 08:26</td>\n",
       "      <td>2.55</td>\n",
       "      <td>17850.0</td>\n",
       "      <td>United Kingdom</td>\n",
       "      <td>85123A</td>\n",
       "      <td>WHITE HANGING HEART T-LIGHT HOLDER</td>\n",
       "      <td>6</td>\n",
       "    </tr>\n",
       "    <tr>\n",
       "      <th>1</th>\n",
       "      <td>536365</td>\n",
       "      <td>01/12/10 08:26</td>\n",
       "      <td>3.39</td>\n",
       "      <td>17850.0</td>\n",
       "      <td>United Kingdom</td>\n",
       "      <td>71053</td>\n",
       "      <td>WHITE METAL LANTERN</td>\n",
       "      <td>6</td>\n",
       "    </tr>\n",
       "    <tr>\n",
       "      <th>2</th>\n",
       "      <td>536365</td>\n",
       "      <td>01/12/10 08:26</td>\n",
       "      <td>2.75</td>\n",
       "      <td>17850.0</td>\n",
       "      <td>United Kingdom</td>\n",
       "      <td>84406B</td>\n",
       "      <td>CREAM CUPID HEARTS COAT HANGER</td>\n",
       "      <td>8</td>\n",
       "    </tr>\n",
       "    <tr>\n",
       "      <th>3</th>\n",
       "      <td>536365</td>\n",
       "      <td>01/12/10 08:26</td>\n",
       "      <td>3.39</td>\n",
       "      <td>17850.0</td>\n",
       "      <td>United Kingdom</td>\n",
       "      <td>84029G</td>\n",
       "      <td>KNITTED UNION FLAG HOT WATER BOTTLE</td>\n",
       "      <td>6</td>\n",
       "    </tr>\n",
       "    <tr>\n",
       "      <th>4</th>\n",
       "      <td>536365</td>\n",
       "      <td>01/12/10 08:26</td>\n",
       "      <td>3.39</td>\n",
       "      <td>17850.0</td>\n",
       "      <td>United Kingdom</td>\n",
       "      <td>84029E</td>\n",
       "      <td>RED WOOLLY HOTTIE WHITE HEART.</td>\n",
       "      <td>6</td>\n",
       "    </tr>\n",
       "  </tbody>\n",
       "</table>\n",
       "</div>"
      ],
      "text/plain": [
       "  BasketID      BasketDate  Sale CustomerID CustomerCountry  ProdID  \\\n",
       "0   536365  01/12/10 08:26  2.55    17850.0  United Kingdom  85123A   \n",
       "1   536365  01/12/10 08:26  3.39    17850.0  United Kingdom   71053   \n",
       "2   536365  01/12/10 08:26  2.75    17850.0  United Kingdom  84406B   \n",
       "3   536365  01/12/10 08:26  3.39    17850.0  United Kingdom  84029G   \n",
       "4   536365  01/12/10 08:26  3.39    17850.0  United Kingdom  84029E   \n",
       "\n",
       "                             ProdDescr  Qta  \n",
       "0   WHITE HANGING HEART T-LIGHT HOLDER    6  \n",
       "1                  WHITE METAL LANTERN    6  \n",
       "2       CREAM CUPID HEARTS COAT HANGER    8  \n",
       "3  KNITTED UNION FLAG HOT WATER BOTTLE    6  \n",
       "4       RED WOOLLY HOTTIE WHITE HEART.    6  "
      ]
     },
     "execution_count": 3,
     "metadata": {},
     "output_type": "execute_result"
    }
   ],
   "source": [
    "df.head()"
   ]
  },
  {
   "cell_type": "code",
   "execution_count": 4,
   "id": "643d5151",
   "metadata": {},
   "outputs": [],
   "source": [
    "df[\"BasketDate\"]=pd.to_datetime(df[\"BasketDate\"],dayfirst=True)"
   ]
  },
  {
   "cell_type": "code",
   "execution_count": 5,
   "id": "b6ebefcb",
   "metadata": {},
   "outputs": [],
   "source": [
    "df[\"Amount\"]=df['Sale'] * df['Qta']"
   ]
  },
  {
   "cell_type": "code",
   "execution_count": 6,
   "id": "e86140bb",
   "metadata": {},
   "outputs": [
    {
     "name": "stdout",
     "output_type": "stream",
     "text": [
      "<class 'pandas.core.frame.DataFrame'>\n",
      "Int64Index: 471910 entries, 0 to 541909\n",
      "Data columns (total 9 columns):\n",
      " #   Column           Non-Null Count   Dtype         \n",
      "---  ------           --------------   -----         \n",
      " 0   BasketID         471910 non-null  object        \n",
      " 1   BasketDate       471910 non-null  datetime64[ns]\n",
      " 2   Sale             471910 non-null  float64       \n",
      " 3   CustomerID       406830 non-null  object        \n",
      " 4   CustomerCountry  471910 non-null  object        \n",
      " 5   ProdID           471910 non-null  object        \n",
      " 6   ProdDescr        471157 non-null  object        \n",
      " 7   Qta              471910 non-null  int64         \n",
      " 8   Amount           471910 non-null  float64       \n",
      "dtypes: datetime64[ns](1), float64(2), int64(1), object(5)\n",
      "memory usage: 36.0+ MB\n"
     ]
    }
   ],
   "source": [
    "df.info()"
   ]
  },
  {
   "cell_type": "code",
   "execution_count": 7,
   "id": "fb2a8e23",
   "metadata": {},
   "outputs": [
    {
     "data": {
      "text/plain": [
       "BasketID               0\n",
       "BasketDate             0\n",
       "Sale                   0\n",
       "CustomerID         65080\n",
       "CustomerCountry        0\n",
       "ProdID                 0\n",
       "ProdDescr            753\n",
       "Qta                    0\n",
       "Amount                 0\n",
       "dtype: int64"
      ]
     },
     "execution_count": 7,
     "metadata": {},
     "output_type": "execute_result"
    }
   ],
   "source": [
    "df.isnull().sum()"
   ]
  },
  {
   "cell_type": "code",
   "execution_count": 8,
   "id": "7dc470cf",
   "metadata": {},
   "outputs": [
    {
     "data": {
      "text/plain": [
       "BasketID           753\n",
       "BasketDate         753\n",
       "Sale               753\n",
       "CustomerID           0\n",
       "CustomerCountry    753\n",
       "ProdID             753\n",
       "ProdDescr            0\n",
       "Qta                753\n",
       "Amount             753\n",
       "dtype: int64"
      ]
     },
     "execution_count": 8,
     "metadata": {},
     "output_type": "execute_result"
    }
   ],
   "source": [
    "df[df['CustomerID'].isnull() & df['ProdDescr'].isnull()].count()"
   ]
  },
  {
   "cell_type": "code",
   "execution_count": 9,
   "id": "315aed0c",
   "metadata": {},
   "outputs": [
    {
     "data": {
      "text/plain": [
       "count    24627.000000\n",
       "mean        19.162302\n",
       "std         28.635400\n",
       "min          1.000000\n",
       "25%          2.000000\n",
       "50%         11.000000\n",
       "75%         24.000000\n",
       "max        542.000000\n",
       "Name: BasketID, dtype: float64"
      ]
     },
     "execution_count": 9,
     "metadata": {},
     "output_type": "execute_result"
    }
   ],
   "source": [
    "bid_counts = df['BasketID'].value_counts()\n",
    "bid_counts.describe()"
   ]
  },
  {
   "cell_type": "code",
   "execution_count": 10,
   "id": "7c205d8f",
   "metadata": {},
   "outputs": [
    {
     "data": {
      "text/plain": [
       "(471910, 9)"
      ]
     },
     "execution_count": 10,
     "metadata": {},
     "output_type": "execute_result"
    }
   ],
   "source": [
    "df.shape"
   ]
  },
  {
   "cell_type": "code",
   "execution_count": 11,
   "id": "691d0610",
   "metadata": {},
   "outputs": [
    {
     "data": {
      "text/html": [
       "<div>\n",
       "<style scoped>\n",
       "    .dataframe tbody tr th:only-of-type {\n",
       "        vertical-align: middle;\n",
       "    }\n",
       "\n",
       "    .dataframe tbody tr th {\n",
       "        vertical-align: top;\n",
       "    }\n",
       "\n",
       "    .dataframe thead th {\n",
       "        text-align: right;\n",
       "    }\n",
       "</style>\n",
       "<table border=\"1\" class=\"dataframe\">\n",
       "  <thead>\n",
       "    <tr style=\"text-align: right;\">\n",
       "      <th></th>\n",
       "      <th>BasketID</th>\n",
       "      <th>BasketDate</th>\n",
       "      <th>Sale</th>\n",
       "      <th>CustomerID</th>\n",
       "      <th>CustomerCountry</th>\n",
       "      <th>ProdID</th>\n",
       "      <th>ProdDescr</th>\n",
       "      <th>Qta</th>\n",
       "      <th>Amount</th>\n",
       "    </tr>\n",
       "  </thead>\n",
       "  <tbody>\n",
       "    <tr>\n",
       "      <th>0</th>\n",
       "      <td>536365</td>\n",
       "      <td>2010-12-01 08:26:00</td>\n",
       "      <td>2.55</td>\n",
       "      <td>17850.0</td>\n",
       "      <td>United Kingdom</td>\n",
       "      <td>85123A</td>\n",
       "      <td>WHITE HANGING HEART T-LIGHT HOLDER</td>\n",
       "      <td>6</td>\n",
       "      <td>15.30</td>\n",
       "    </tr>\n",
       "    <tr>\n",
       "      <th>1</th>\n",
       "      <td>536365</td>\n",
       "      <td>2010-12-01 08:26:00</td>\n",
       "      <td>3.39</td>\n",
       "      <td>17850.0</td>\n",
       "      <td>United Kingdom</td>\n",
       "      <td>71053</td>\n",
       "      <td>WHITE METAL LANTERN</td>\n",
       "      <td>6</td>\n",
       "      <td>20.34</td>\n",
       "    </tr>\n",
       "    <tr>\n",
       "      <th>2</th>\n",
       "      <td>536365</td>\n",
       "      <td>2010-12-01 08:26:00</td>\n",
       "      <td>2.75</td>\n",
       "      <td>17850.0</td>\n",
       "      <td>United Kingdom</td>\n",
       "      <td>84406B</td>\n",
       "      <td>CREAM CUPID HEARTS COAT HANGER</td>\n",
       "      <td>8</td>\n",
       "      <td>22.00</td>\n",
       "    </tr>\n",
       "    <tr>\n",
       "      <th>3</th>\n",
       "      <td>536365</td>\n",
       "      <td>2010-12-01 08:26:00</td>\n",
       "      <td>3.39</td>\n",
       "      <td>17850.0</td>\n",
       "      <td>United Kingdom</td>\n",
       "      <td>84029G</td>\n",
       "      <td>KNITTED UNION FLAG HOT WATER BOTTLE</td>\n",
       "      <td>6</td>\n",
       "      <td>20.34</td>\n",
       "    </tr>\n",
       "    <tr>\n",
       "      <th>4</th>\n",
       "      <td>536365</td>\n",
       "      <td>2010-12-01 08:26:00</td>\n",
       "      <td>3.39</td>\n",
       "      <td>17850.0</td>\n",
       "      <td>United Kingdom</td>\n",
       "      <td>84029E</td>\n",
       "      <td>RED WOOLLY HOTTIE WHITE HEART.</td>\n",
       "      <td>6</td>\n",
       "      <td>20.34</td>\n",
       "    </tr>\n",
       "  </tbody>\n",
       "</table>\n",
       "</div>"
      ],
      "text/plain": [
       "  BasketID          BasketDate  Sale CustomerID CustomerCountry  ProdID  \\\n",
       "0   536365 2010-12-01 08:26:00  2.55    17850.0  United Kingdom  85123A   \n",
       "1   536365 2010-12-01 08:26:00  3.39    17850.0  United Kingdom   71053   \n",
       "2   536365 2010-12-01 08:26:00  2.75    17850.0  United Kingdom  84406B   \n",
       "3   536365 2010-12-01 08:26:00  3.39    17850.0  United Kingdom  84029G   \n",
       "4   536365 2010-12-01 08:26:00  3.39    17850.0  United Kingdom  84029E   \n",
       "\n",
       "                             ProdDescr  Qta  Amount  \n",
       "0   WHITE HANGING HEART T-LIGHT HOLDER    6   15.30  \n",
       "1                  WHITE METAL LANTERN    6   20.34  \n",
       "2       CREAM CUPID HEARTS COAT HANGER    8   22.00  \n",
       "3  KNITTED UNION FLAG HOT WATER BOTTLE    6   20.34  \n",
       "4       RED WOOLLY HOTTIE WHITE HEART.    6   20.34  "
      ]
     },
     "execution_count": 11,
     "metadata": {},
     "output_type": "execute_result"
    }
   ],
   "source": [
    "df.head()"
   ]
  },
  {
   "cell_type": "markdown",
   "id": "13b22e15",
   "metadata": {},
   "source": [
    "## Sale, Qta\n",
    "We noticed there are 1279 sales with null cost and 9752 with negative quantity."
   ]
  },
  {
   "cell_type": "code",
   "execution_count": 12,
   "id": "cbac8103",
   "metadata": {},
   "outputs": [
    {
     "data": {
      "text/plain": [
       "BasketID           1279\n",
       "BasketDate         1279\n",
       "Sale               1279\n",
       "CustomerID           40\n",
       "CustomerCountry    1279\n",
       "ProdID             1279\n",
       "ProdDescr           526\n",
       "Qta                1279\n",
       "Amount             1279\n",
       "dtype: int64"
      ]
     },
     "execution_count": 12,
     "metadata": {},
     "output_type": "execute_result"
    }
   ],
   "source": [
    "cost_zero = df['Sale'] == 0\n",
    "df[cost_zero].count()"
   ]
  },
  {
   "cell_type": "code",
   "execution_count": 13,
   "id": "759e0618",
   "metadata": {},
   "outputs": [
    {
     "data": {
      "text/plain": [
       "BasketID           9752\n",
       "BasketDate         9752\n",
       "Sale               9752\n",
       "CustomerID         8905\n",
       "CustomerCountry    9752\n",
       "ProdID             9752\n",
       "ProdDescr          9305\n",
       "Qta                9752\n",
       "Amount             9752\n",
       "dtype: int64"
      ]
     },
     "execution_count": 13,
     "metadata": {},
     "output_type": "execute_result"
    }
   ],
   "source": [
    "neg_qta = df['Qta'] < 0\n",
    "df[neg_qta].count()"
   ]
  },
  {
   "cell_type": "code",
   "execution_count": 14,
   "id": "576e0274",
   "metadata": {},
   "outputs": [
    {
     "data": {
      "text/plain": [
       "BasketID           668\n",
       "BasketDate         668\n",
       "Sale               668\n",
       "CustomerID           0\n",
       "CustomerCountry    668\n",
       "ProdID             668\n",
       "ProdDescr          221\n",
       "Qta                668\n",
       "Amount             668\n",
       "dtype: int64"
      ]
     },
     "execution_count": 14,
     "metadata": {},
     "output_type": "execute_result"
    }
   ],
   "source": [
    "df[cost_zero & neg_qta].count()"
   ]
  },
  {
   "cell_type": "code",
   "execution_count": 15,
   "id": "5d03bdb7",
   "metadata": {},
   "outputs": [
    {
     "name": "stderr",
     "output_type": "stream",
     "text": [
      "C:\\Users\\PREHA MADAAN\\AppData\\Local\\Temp\\ipykernel_14604\\3155093755.py:3: UserWarning: Boolean Series key will be reindexed to match DataFrame index.\n",
      "  df.drop(df[cost_zero].index, inplace=True)\n"
     ]
    }
   ],
   "source": [
    "df.drop(df[neg_qta].index, inplace=True)\n",
    "# drop rows with null cost\n",
    "df.drop(df[cost_zero].index, inplace=True)"
   ]
  },
  {
   "cell_type": "code",
   "execution_count": 16,
   "id": "2f552dfe",
   "metadata": {},
   "outputs": [
    {
     "data": {
      "text/plain": [
       "(461547, 9)"
      ]
     },
     "execution_count": 16,
     "metadata": {},
     "output_type": "execute_result"
    }
   ],
   "source": [
    "df.shape"
   ]
  },
  {
   "cell_type": "markdown",
   "id": "d919d71c",
   "metadata": {},
   "source": [
    "## BasketDate\n"
   ]
  },
  {
   "cell_type": "code",
   "execution_count": 17,
   "id": "51d26d19",
   "metadata": {},
   "outputs": [
    {
     "name": "stdout",
     "output_type": "stream",
     "text": [
      "Min Date: 2010-12-01 08:26:00\n",
      "Max Date: 2011-12-09 12:50:00\n",
      "Day with Most Sales: 2011-12-05\n",
      "Day with least Sales: 2010-12-22\n"
     ]
    }
   ],
   "source": [
    "bd_counts = df['BasketDate'].dt.date.value_counts()\n",
    "print(\"Min Date:\",min(df[\"BasketDate\"]))\n",
    "print(\"Max Date:\",max(df[\"BasketDate\"]))\n",
    "print(\"Day with Most Sales:\",bd_counts.index[0])\n",
    "print(\"Day with least Sales:\",bd_counts.index[-1])"
   ]
  },
  {
   "cell_type": "code",
   "execution_count": 18,
   "id": "266474ce",
   "metadata": {},
   "outputs": [
    {
     "data": {
      "text/plain": [
       "[]"
      ]
     },
     "execution_count": 18,
     "metadata": {},
     "output_type": "execute_result"
    },
    {
     "data": {
      "image/png": "[encoded data removed]",
      "text/plain": [
       "<Figure size 432x288 with 1 Axes>"
      ]
     },
     "metadata": {
      "needs_background": "light"
     },
     "output_type": "display_data"
    }
   ],
   "source": [
    "a = df.groupby(pd.Grouper(key='BasketDate', freq='M'))['BasketID'].count()\n",
    "a.index = a.index.strftime('%b %Y')\n",
    "aplt = a.plot(kind='bar', title='Number of transactions per month', rot=45)\n",
    "\n",
    "aplt.set_ylabel('Transactions')\n",
    "aplt.plot()\n",
    "\n"
   ]
  },
  {
   "cell_type": "code",
   "execution_count": 20,
   "id": "d0ed35cb",
   "metadata": {},
   "outputs": [
    {
     "data": {
      "text/plain": [
       "BasketDate\n",
       "Dec 2010    33532\n",
       "Jan 2011    27631\n",
       "Feb 2011    23388\n",
       "Mar 2011    31344\n",
       "Apr 2011    25813\n",
       "May 2011    32086\n",
       "Jun 2011    31414\n",
       "Jul 2011    32425\n",
       "Aug 2011    30650\n",
       "Sep 2011    44409\n",
       "Oct 2011    54216\n",
       "Nov 2011    73617\n",
       "Dec 2011    21022\n",
       "Name: BasketID, dtype: int64"
      ]
     },
     "execution_count": 20,
     "metadata": {},
     "output_type": "execute_result"
    }
   ],
   "source": [
    "a"
   ]
  },
  {
   "cell_type": "code",
   "execution_count": 22,
   "id": "299f20fc",
   "metadata": {},
   "outputs": [
    {
     "data": {
      "text/plain": [
       "BasketID               0\n",
       "BasketDate             0\n",
       "Sale                   0\n",
       "CustomerID         63662\n",
       "CustomerCountry        0\n",
       "ProdID                 0\n",
       "ProdDescr              0\n",
       "Qta                    0\n",
       "Amount                 0\n",
       "dtype: int64"
      ]
     },
     "execution_count": 22,
     "metadata": {},
     "output_type": "execute_result"
    }
   ],
   "source": [
    "df.isnull().sum()"
   ]
  },
  {
   "cell_type": "code",
   "execution_count": 23,
   "id": "1dbf6186",
   "metadata": {},
   "outputs": [
    {
     "name": "stdout",
     "output_type": "stream",
     "text": [
      "count    4338.000000\n",
      "mean       91.720839\n",
      "std       228.785054\n",
      "min         1.000000\n",
      "25%        17.000000\n",
      "50%        41.000000\n",
      "75%       100.000000\n",
      "max      7847.000000\n",
      "Name: CustomerID, dtype: float64\n"
     ]
    },
    {
     "data": {
      "text/plain": [
       "Text(0, 0.5, 'Transactions')"
      ]
     },
     "execution_count": 23,
     "metadata": {},
     "output_type": "execute_result"
    },
    {
     "data": {
      "image/png": "[encoded data removed]",
      "text/plain": [
       "<Figure size 432x288 with 1 Axes>"
      ]
     },
     "metadata": {
      "needs_background": "light"
     },
     "output_type": "display_data"
    }
   ],
   "source": [
    "cid_counts = df['CustomerID'].value_counts()\n",
    "print(cid_counts.describe())\n",
    "cidplot = cid_counts.plot.box()\n",
    "cidplot.set_ylabel(\"Transactions\")"
   ]
  },
  {
   "cell_type": "code",
   "execution_count": 26,
   "id": "13f9a329",
   "metadata": {},
   "outputs": [],
   "source": [
    "df.dropna(subset=['CustomerID'], inplace=True)\n",
    "\n"
   ]
  },
  {
   "cell_type": "code",
   "execution_count": 32,
   "id": "e2c3a418",
   "metadata": {},
   "outputs": [],
   "source": [
    "# export cleaned dataset for further analysis\n",
    "df.to_csv('clean_df.csv',index=True, header=True)"
   ]
  },
  {
   "cell_type": "markdown",
   "id": "4a4fcb2f",
   "metadata": {},
   "source": [
    "## CustomerCountry"
   ]
  },
  {
   "cell_type": "code",
   "execution_count": 33,
   "id": "e082f60f",
   "metadata": {},
   "outputs": [
    {
     "data": {
      "text/html": [
       "<div>\n",
       "<style scoped>\n",
       "    .dataframe tbody tr th:only-of-type {\n",
       "        vertical-align: middle;\n",
       "    }\n",
       "\n",
       "    .dataframe tbody tr th {\n",
       "        vertical-align: top;\n",
       "    }\n",
       "\n",
       "    .dataframe thead th {\n",
       "        text-align: right;\n",
       "    }\n",
       "</style>\n",
       "<table border=\"1\" class=\"dataframe\">\n",
       "  <thead>\n",
       "    <tr style=\"text-align: right;\">\n",
       "      <th></th>\n",
       "      <th>BasketID</th>\n",
       "      <th>BasketDate</th>\n",
       "      <th>Sale</th>\n",
       "      <th>CustomerID</th>\n",
       "      <th>CustomerCountry</th>\n",
       "      <th>ProdID</th>\n",
       "      <th>ProdDescr</th>\n",
       "      <th>Qta</th>\n",
       "      <th>Amount</th>\n",
       "    </tr>\n",
       "  </thead>\n",
       "  <tbody>\n",
       "    <tr>\n",
       "      <th>0</th>\n",
       "      <td>536365</td>\n",
       "      <td>2010-12-01 08:26:00</td>\n",
       "      <td>2.55</td>\n",
       "      <td>17850.0</td>\n",
       "      <td>United Kingdom</td>\n",
       "      <td>85123A</td>\n",
       "      <td>WHITE HANGING HEART T-LIGHT HOLDER</td>\n",
       "      <td>6</td>\n",
       "      <td>15.30</td>\n",
       "    </tr>\n",
       "    <tr>\n",
       "      <th>1</th>\n",
       "      <td>536365</td>\n",
       "      <td>2010-12-01 08:26:00</td>\n",
       "      <td>3.39</td>\n",
       "      <td>17850.0</td>\n",
       "      <td>United Kingdom</td>\n",
       "      <td>71053</td>\n",
       "      <td>WHITE METAL LANTERN</td>\n",
       "      <td>6</td>\n",
       "      <td>20.34</td>\n",
       "    </tr>\n",
       "    <tr>\n",
       "      <th>2</th>\n",
       "      <td>536365</td>\n",
       "      <td>2010-12-01 08:26:00</td>\n",
       "      <td>2.75</td>\n",
       "      <td>17850.0</td>\n",
       "      <td>United Kingdom</td>\n",
       "      <td>84406B</td>\n",
       "      <td>CREAM CUPID HEARTS COAT HANGER</td>\n",
       "      <td>8</td>\n",
       "      <td>22.00</td>\n",
       "    </tr>\n",
       "    <tr>\n",
       "      <th>3</th>\n",
       "      <td>536365</td>\n",
       "      <td>2010-12-01 08:26:00</td>\n",
       "      <td>3.39</td>\n",
       "      <td>17850.0</td>\n",
       "      <td>United Kingdom</td>\n",
       "      <td>84029G</td>\n",
       "      <td>KNITTED UNION FLAG HOT WATER BOTTLE</td>\n",
       "      <td>6</td>\n",
       "      <td>20.34</td>\n",
       "    </tr>\n",
       "    <tr>\n",
       "      <th>4</th>\n",
       "      <td>536365</td>\n",
       "      <td>2010-12-01 08:26:00</td>\n",
       "      <td>3.39</td>\n",
       "      <td>17850.0</td>\n",
       "      <td>United Kingdom</td>\n",
       "      <td>84029E</td>\n",
       "      <td>RED WOOLLY HOTTIE WHITE HEART.</td>\n",
       "      <td>6</td>\n",
       "      <td>20.34</td>\n",
       "    </tr>\n",
       "  </tbody>\n",
       "</table>\n",
       "</div>"
      ],
      "text/plain": [
       "  BasketID          BasketDate  Sale CustomerID CustomerCountry  ProdID  \\\n",
       "0   536365 2010-12-01 08:26:00  2.55    17850.0  United Kingdom  85123A   \n",
       "1   536365 2010-12-01 08:26:00  3.39    17850.0  United Kingdom   71053   \n",
       "2   536365 2010-12-01 08:26:00  2.75    17850.0  United Kingdom  84406B   \n",
       "3   536365 2010-12-01 08:26:00  3.39    17850.0  United Kingdom  84029G   \n",
       "4   536365 2010-12-01 08:26:00  3.39    17850.0  United Kingdom  84029E   \n",
       "\n",
       "                             ProdDescr  Qta  Amount  \n",
       "0   WHITE HANGING HEART T-LIGHT HOLDER    6   15.30  \n",
       "1                  WHITE METAL LANTERN    6   20.34  \n",
       "2       CREAM CUPID HEARTS COAT HANGER    8   22.00  \n",
       "3  KNITTED UNION FLAG HOT WATER BOTTLE    6   20.34  \n",
       "4       RED WOOLLY HOTTIE WHITE HEART.    6   20.34  "
      ]
     },
     "execution_count": 33,
     "metadata": {},
     "output_type": "execute_result"
    }
   ],
   "source": [
    "df.head()"
   ]
  },
  {
   "cell_type": "code",
   "execution_count": 47,
   "id": "0178a90e",
   "metadata": {},
   "outputs": [
    {
     "data": {
      "text/plain": [
       "<AxesSubplot:xlabel='CustomerCountry'>"
      ]
     },
     "execution_count": 47,
     "metadata": {},
     "output_type": "execute_result"
    },
    {
     "data": {
      "image/png": "[encoded data removed]",
      "text/plain": [
       "<Figure size 432x288 with 1 Axes>"
      ]
     },
     "metadata": {
      "needs_background": "light"
     },
     "output_type": "display_data"
    }
   ],
   "source": [
    "cc_counts = df.groupby(['CustomerCountry', 'CustomerID']).size().groupby(level=0).size()\n",
    "cc_counts.plot.bar()"
   ]
  },
  {
   "cell_type": "markdown",
   "id": "d6b02392",
   "metadata": {},
   "source": [
    "## ProdID, ProdDescr\n"
   ]
  },
  {
   "cell_type": "code",
   "execution_count": 53,
   "id": "0cdb466d",
   "metadata": {},
   "outputs": [
    {
     "name": "stdout",
     "output_type": "stream",
     "text": [
      "count    3665.000000\n",
      "mean      108.563438\n",
      "std       163.762072\n",
      "min         1.000000\n",
      "25%        12.000000\n",
      "50%        49.000000\n",
      "75%       135.000000\n",
      "max      2035.000000\n",
      "Name: ProdID, dtype: float64\n",
      "Best seller: 85123A (WHITE HANGING HEART T-LIGHT HOLDER)\n",
      "Worst seller: 23843 (PAPER CRAFT , LITTLE BIRDIE)\n"
     ]
    }
   ],
   "source": [
    "pid_counts = df['ProdID'].value_counts()\n",
    "print(pid_counts.describe())\n",
    "\n",
    "best_seller_id = pid_counts.index[0]\n",
    "best_seller_descr = df.loc[df['ProdID'] == best_seller_id]['ProdDescr'].iloc[0]\n",
    "print(\"Best seller: {} ({})\".format(str(best_seller_id), str(best_seller_descr)))\n",
    "\n",
    "worst_seller_id = pid_counts.index[-1]\n",
    "worst_seller_descr = df.loc[df['ProdID'] == worst_seller_id]['ProdDescr'].iloc[0]\n",
    "print(\"Worst seller: {} ({})\".format(str(worst_seller_id), str(worst_seller_descr)))\n",
    "                                                                                                                                                                                        "
   ]
  },
  {
   "cell_type": "markdown",
   "id": "9bd732b5",
   "metadata": {},
   "source": [
    "## Correlation"
   ]
  },
  {
   "cell_type": "code",
   "execution_count": 57,
   "id": "56604592",
   "metadata": {},
   "outputs": [
    {
     "data": {
      "text/plain": [
       "0         85123A\n",
       "1          71053\n",
       "2         84406B\n",
       "3         84029G\n",
       "4         84029E\n",
       "           ...  \n",
       "541905     22899\n",
       "541906     23254\n",
       "541907     23255\n",
       "541908     22138\n",
       "541909      POST\n",
       "Name: ProdID, Length: 397885, dtype: object"
      ]
     },
     "execution_count": 57,
     "metadata": {},
     "output_type": "execute_result"
    }
   ],
   "source": [
    "df['ProdID']"
   ]
  },
  {
   "cell_type": "code",
   "execution_count": 60,
   "id": "f3acf2a1",
   "metadata": {},
   "outputs": [],
   "source": [
    "df_corr = df.copy()\n",
    "\n",
    "df_corr['ProdID'] = df_corr['ProdID'].astype('category').cat.codes\n",
    "df_corr.sort_values(by=['ProdID'], inplace=True)\n",
    "obj = {}\n",
    "idx = 0\n",
    "s = \"\"\n",
    "for index, row in df_corr.iterrows():\n",
    "    if row['ProdDescr'] != s:\n",
    "        s = row['ProdDescr']\n",
    "        obj[s] = idx\n",
    "        idx += 1\n"
   ]
  },
  {
   "cell_type": "code",
   "execution_count": 56,
   "id": "0157046c",
   "metadata": {},
   "outputs": [
    {
     "data": {
      "text/plain": [
       "0         3233\n",
       "1         2643\n",
       "2         2847\n",
       "3         2795\n",
       "4         2794\n",
       "          ... \n",
       "541905    1742\n",
       "541906    2082\n",
       "541907    2083\n",
       "541908    1035\n",
       "541909    3664\n",
       "Name: ProdID, Length: 397885, dtype: int16"
      ]
     },
     "execution_count": 56,
     "metadata": {},
     "output_type": "execute_result"
    }
   ],
   "source": [
    "df_corr['ProdID']"
   ]
  },
  {
   "cell_type": "code",
   "execution_count": 75,
   "id": "665ef120",
   "metadata": {},
   "outputs": [],
   "source": [
    "df_corr['ProdDescr'].replace(obj, inplace=True)\n",
    "\n",
    "df_corr['BasketID'] = df_corr['BasketID'].astype('category').cat.codes\n",
    "df_corr['BasketDate'] = df_corr['BasketDate'].astype('category').cat.codes\n",
    "df_corr['CustomerID'] = df_corr['CustomerID'].astype('category').cat.codes\n",
    "df_corr['CustomerCountry'] = df_corr['CustomerCountry'].astype('category').cat.codes"
   ]
  },
  {
   "cell_type": "code",
   "execution_count": 76,
   "id": "1f7858b5",
   "metadata": {},
   "outputs": [
    {
     "data": {
      "text/plain": [
       "44809         0\n",
       "31            0\n",
       "52333         0\n",
       "160128        0\n",
       "77515         0\n",
       "          ...  \n",
       "370000    11376\n",
       "369980    11376\n",
       "369452    11376\n",
       "188497    11376\n",
       "541909    11376\n",
       "Name: ProdDescr, Length: 397885, dtype: int64"
      ]
     },
     "execution_count": 76,
     "metadata": {},
     "output_type": "execute_result"
    }
   ],
   "source": [
    "df_corr['ProdDescr']"
   ]
  },
  {
   "cell_type": "code",
   "execution_count": 81,
   "id": "ae20ae35",
   "metadata": {},
   "outputs": [
    {
     "data": {
      "text/plain": [
       "<AxesSubplot:>"
      ]
     },
     "execution_count": 81,
     "metadata": {},
     "output_type": "execute_result"
    },
    {
     "data": {
      "image/png": "[encoded data removed]",
      "text/plain": [
       "<Figure size 1080x1080 with 2 Axes>"
      ]
     },
     "metadata": {},
     "output_type": "display_data"
    }
   ],
   "source": [
    "import seaborn as sns\n",
    "\n",
    "corr=df_corr.corr()\n",
    "sns.set_style(\"white\")\n",
    "\n",
    "plt.subplots(figsize=(15,15))\n",
    "cmap = sns.diverging_palette(220, 10, as_cmap=True)\n",
    "\n",
    "sns.heatmap(corr, cmap=cmap,annot=True, vmax=1,vmin=-1,\n",
    "            center=0, square=True, linewidths=0.5, cbar_kws={\"shrink\": 0.5})"
   ]
  },
  {
   "cell_type": "code",
   "execution_count": 82,
   "id": "ddede29d",
   "metadata": {},
   "outputs": [
    {
     "name": "stderr",
     "output_type": "stream",
     "text": [
      "C:\\Users\\PREHA MADAAN\\AppData\\Local\\Temp\\ipykernel_14604\\75663485.py:5: FutureWarning: Using the level keyword in DataFrame and Series aggregations is deprecated and will be removed in a future version. Use groupby instead. df.median(level=1) should use df.groupby(level=1).median().\n",
      "  df_customer['Imax'] = df.groupby(['CustomerID','BasketID']).count().max(level=0)['BasketDate']\n"
     ]
    }
   ],
   "source": [
    "df_customer = df.groupby('CustomerID').agg(\n",
    "    I=('ProdID','count'),\n",
    "    Iu=('ProdID', 'nunique'))\n",
    "\n",
    "df_customer['Imax'] = df.groupby(['CustomerID','BasketID']).count().max(level=0)['BasketDate']"
   ]
  },
  {
   "cell_type": "code",
   "execution_count": 83,
   "id": "4aef5b3d",
   "metadata": {},
   "outputs": [
    {
     "data": {
      "text/html": [
       "<div>\n",
       "<style scoped>\n",
       "    .dataframe tbody tr th:only-of-type {\n",
       "        vertical-align: middle;\n",
       "    }\n",
       "\n",
       "    .dataframe tbody tr th {\n",
       "        vertical-align: top;\n",
       "    }\n",
       "\n",
       "    .dataframe thead th {\n",
       "        text-align: right;\n",
       "    }\n",
       "</style>\n",
       "<table border=\"1\" class=\"dataframe\">\n",
       "  <thead>\n",
       "    <tr style=\"text-align: right;\">\n",
       "      <th></th>\n",
       "      <th>I</th>\n",
       "      <th>Iu</th>\n",
       "      <th>Imax</th>\n",
       "    </tr>\n",
       "    <tr>\n",
       "      <th>CustomerID</th>\n",
       "      <th></th>\n",
       "      <th></th>\n",
       "      <th></th>\n",
       "    </tr>\n",
       "  </thead>\n",
       "  <tbody>\n",
       "    <tr>\n",
       "      <th>12346.0</th>\n",
       "      <td>1</td>\n",
       "      <td>1</td>\n",
       "      <td>1</td>\n",
       "    </tr>\n",
       "    <tr>\n",
       "      <th>12347.0</th>\n",
       "      <td>182</td>\n",
       "      <td>103</td>\n",
       "      <td>47</td>\n",
       "    </tr>\n",
       "    <tr>\n",
       "      <th>12348.0</th>\n",
       "      <td>31</td>\n",
       "      <td>22</td>\n",
       "      <td>17</td>\n",
       "    </tr>\n",
       "    <tr>\n",
       "      <th>12349.0</th>\n",
       "      <td>73</td>\n",
       "      <td>73</td>\n",
       "      <td>73</td>\n",
       "    </tr>\n",
       "    <tr>\n",
       "      <th>12350.0</th>\n",
       "      <td>17</td>\n",
       "      <td>17</td>\n",
       "      <td>17</td>\n",
       "    </tr>\n",
       "    <tr>\n",
       "      <th>...</th>\n",
       "      <td>...</td>\n",
       "      <td>...</td>\n",
       "      <td>...</td>\n",
       "    </tr>\n",
       "    <tr>\n",
       "      <th>18280.0</th>\n",
       "      <td>10</td>\n",
       "      <td>10</td>\n",
       "      <td>10</td>\n",
       "    </tr>\n",
       "    <tr>\n",
       "      <th>18281.0</th>\n",
       "      <td>7</td>\n",
       "      <td>7</td>\n",
       "      <td>7</td>\n",
       "    </tr>\n",
       "    <tr>\n",
       "      <th>18282.0</th>\n",
       "      <td>12</td>\n",
       "      <td>12</td>\n",
       "      <td>7</td>\n",
       "    </tr>\n",
       "    <tr>\n",
       "      <th>18283.0</th>\n",
       "      <td>756</td>\n",
       "      <td>263</td>\n",
       "      <td>107</td>\n",
       "    </tr>\n",
       "    <tr>\n",
       "      <th>18287.0</th>\n",
       "      <td>70</td>\n",
       "      <td>59</td>\n",
       "      <td>38</td>\n",
       "    </tr>\n",
       "  </tbody>\n",
       "</table>\n",
       "<p>4338 rows × 3 columns</p>\n",
       "</div>"
      ],
      "text/plain": [
       "              I   Iu  Imax\n",
       "CustomerID                \n",
       "12346.0       1    1     1\n",
       "12347.0     182  103    47\n",
       "12348.0      31   22    17\n",
       "12349.0      73   73    73\n",
       "12350.0      17   17    17\n",
       "...         ...  ...   ...\n",
       "18280.0      10   10    10\n",
       "18281.0       7    7     7\n",
       "18282.0      12   12     7\n",
       "18283.0     756  263   107\n",
       "18287.0      70   59    38\n",
       "\n",
       "[4338 rows x 3 columns]"
      ]
     },
     "execution_count": 83,
     "metadata": {},
     "output_type": "execute_result"
    }
   ],
   "source": [
    "df_customer"
   ]
  },
  {
   "cell_type": "code",
   "execution_count": 84,
   "id": "4691e95c",
   "metadata": {},
   "outputs": [],
   "source": [
    "pos_amounts = df[df['Amount'] >= 0].copy()\n",
    "p_sum = pos_amounts.groupby('CustomerID')['Amount'].transform('sum')\n",
    "probs = pos_amounts['Amount']/p_sum\n",
    "pos_amounts['Entropy'] = -(probs * np.log(probs)) #ss.entropy(probs)\n",
    "df_customer['Entropy'] = pos_amounts.groupby('CustomerID')['Entropy'].sum()"
   ]
  },
  {
   "cell_type": "code",
   "execution_count": 85,
   "id": "a5a894ee",
   "metadata": {},
   "outputs": [],
   "source": [
    "df_customer['BasketNum'] = df.groupby(['CustomerID', 'BasketID']).size().groupby(level=0).size()"
   ]
  },
  {
   "cell_type": "code",
   "execution_count": 86,
   "id": "51ca9eb8",
   "metadata": {},
   "outputs": [
    {
     "data": {
      "text/html": [
       "<div>\n",
       "<style scoped>\n",
       "    .dataframe tbody tr th:only-of-type {\n",
       "        vertical-align: middle;\n",
       "    }\n",
       "\n",
       "    .dataframe tbody tr th {\n",
       "        vertical-align: top;\n",
       "    }\n",
       "\n",
       "    .dataframe thead th {\n",
       "        text-align: right;\n",
       "    }\n",
       "</style>\n",
       "<table border=\"1\" class=\"dataframe\">\n",
       "  <thead>\n",
       "    <tr style=\"text-align: right;\">\n",
       "      <th></th>\n",
       "      <th>I</th>\n",
       "      <th>Iu</th>\n",
       "      <th>Imax</th>\n",
       "      <th>Entropy</th>\n",
       "      <th>BasketNum</th>\n",
       "    </tr>\n",
       "    <tr>\n",
       "      <th>CustomerID</th>\n",
       "      <th></th>\n",
       "      <th></th>\n",
       "      <th></th>\n",
       "      <th></th>\n",
       "      <th></th>\n",
       "    </tr>\n",
       "  </thead>\n",
       "  <tbody>\n",
       "    <tr>\n",
       "      <th>12346.0</th>\n",
       "      <td>1</td>\n",
       "      <td>1</td>\n",
       "      <td>1</td>\n",
       "      <td>0.000000</td>\n",
       "      <td>1</td>\n",
       "    </tr>\n",
       "    <tr>\n",
       "      <th>12347.0</th>\n",
       "      <td>182</td>\n",
       "      <td>103</td>\n",
       "      <td>47</td>\n",
       "      <td>4.943568</td>\n",
       "      <td>7</td>\n",
       "    </tr>\n",
       "    <tr>\n",
       "      <th>12348.0</th>\n",
       "      <td>31</td>\n",
       "      <td>22</td>\n",
       "      <td>17</td>\n",
       "      <td>3.163994</td>\n",
       "      <td>4</td>\n",
       "    </tr>\n",
       "    <tr>\n",
       "      <th>12349.0</th>\n",
       "      <td>73</td>\n",
       "      <td>73</td>\n",
       "      <td>73</td>\n",
       "      <td>3.897416</td>\n",
       "      <td>1</td>\n",
       "    </tr>\n",
       "    <tr>\n",
       "      <th>12350.0</th>\n",
       "      <td>17</td>\n",
       "      <td>17</td>\n",
       "      <td>17</td>\n",
       "      <td>2.772224</td>\n",
       "      <td>1</td>\n",
       "    </tr>\n",
       "    <tr>\n",
       "      <th>...</th>\n",
       "      <td>...</td>\n",
       "      <td>...</td>\n",
       "      <td>...</td>\n",
       "      <td>...</td>\n",
       "      <td>...</td>\n",
       "    </tr>\n",
       "    <tr>\n",
       "      <th>18280.0</th>\n",
       "      <td>10</td>\n",
       "      <td>10</td>\n",
       "      <td>10</td>\n",
       "      <td>2.287351</td>\n",
       "      <td>1</td>\n",
       "    </tr>\n",
       "    <tr>\n",
       "      <th>18281.0</th>\n",
       "      <td>7</td>\n",
       "      <td>7</td>\n",
       "      <td>7</td>\n",
       "      <td>1.813743</td>\n",
       "      <td>1</td>\n",
       "    </tr>\n",
       "    <tr>\n",
       "      <th>18282.0</th>\n",
       "      <td>12</td>\n",
       "      <td>12</td>\n",
       "      <td>7</td>\n",
       "      <td>2.409664</td>\n",
       "      <td>2</td>\n",
       "    </tr>\n",
       "    <tr>\n",
       "      <th>18283.0</th>\n",
       "      <td>756</td>\n",
       "      <td>263</td>\n",
       "      <td>107</td>\n",
       "      <td>6.334695</td>\n",
       "      <td>16</td>\n",
       "    </tr>\n",
       "    <tr>\n",
       "      <th>18287.0</th>\n",
       "      <td>70</td>\n",
       "      <td>59</td>\n",
       "      <td>38</td>\n",
       "      <td>4.014133</td>\n",
       "      <td>3</td>\n",
       "    </tr>\n",
       "  </tbody>\n",
       "</table>\n",
       "<p>4338 rows × 5 columns</p>\n",
       "</div>"
      ],
      "text/plain": [
       "              I   Iu  Imax   Entropy  BasketNum\n",
       "CustomerID                                     \n",
       "12346.0       1    1     1  0.000000          1\n",
       "12347.0     182  103    47  4.943568          7\n",
       "12348.0      31   22    17  3.163994          4\n",
       "12349.0      73   73    73  3.897416          1\n",
       "12350.0      17   17    17  2.772224          1\n",
       "...         ...  ...   ...       ...        ...\n",
       "18280.0      10   10    10  2.287351          1\n",
       "18281.0       7    7     7  1.813743          1\n",
       "18282.0      12   12     7  2.409664          2\n",
       "18283.0     756  263   107  6.334695         16\n",
       "18287.0      70   59    38  4.014133          3\n",
       "\n",
       "[4338 rows x 5 columns]"
      ]
     },
     "execution_count": 86,
     "metadata": {},
     "output_type": "execute_result"
    }
   ],
   "source": [
    "df_customer"
   ]
  },
  {
   "cell_type": "code",
   "execution_count": 87,
   "id": "bcb35724",
   "metadata": {},
   "outputs": [],
   "source": [
    "df_group = df.groupby(['CustomerID','BasketID']).agg(BasketSum=('Amount', 'sum'))\n",
    "df_group = df_group.groupby('CustomerID').agg(BasketMean=('BasketSum', 'mean'), SumExp=('BasketSum', 'sum'))\n",
    "df_customer['SumExp'] = df_group['SumExp']\n",
    "df_customer['AvgExp'] = df_group['BasketMean']"
   ]
  },
  {
   "cell_type": "code",
   "execution_count": 88,
   "id": "29974152",
   "metadata": {},
   "outputs": [
    {
     "data": {
      "text/html": [
       "<div>\n",
       "<style scoped>\n",
       "    .dataframe tbody tr th:only-of-type {\n",
       "        vertical-align: middle;\n",
       "    }\n",
       "\n",
       "    .dataframe tbody tr th {\n",
       "        vertical-align: top;\n",
       "    }\n",
       "\n",
       "    .dataframe thead th {\n",
       "        text-align: right;\n",
       "    }\n",
       "</style>\n",
       "<table border=\"1\" class=\"dataframe\">\n",
       "  <thead>\n",
       "    <tr style=\"text-align: right;\">\n",
       "      <th></th>\n",
       "      <th>I</th>\n",
       "      <th>Iu</th>\n",
       "      <th>Imax</th>\n",
       "      <th>Entropy</th>\n",
       "      <th>BasketNum</th>\n",
       "      <th>SumExp</th>\n",
       "      <th>AvgExp</th>\n",
       "    </tr>\n",
       "  </thead>\n",
       "  <tbody>\n",
       "    <tr>\n",
       "      <th>count</th>\n",
       "      <td>4338.000000</td>\n",
       "      <td>4338.000000</td>\n",
       "      <td>4338.000000</td>\n",
       "      <td>4338.000000</td>\n",
       "      <td>4338.000000</td>\n",
       "      <td>4338.000000</td>\n",
       "      <td>4338.000000</td>\n",
       "    </tr>\n",
       "    <tr>\n",
       "      <th>mean</th>\n",
       "      <td>91.720839</td>\n",
       "      <td>61.501153</td>\n",
       "      <td>32.086445</td>\n",
       "      <td>3.432994</td>\n",
       "      <td>4.272015</td>\n",
       "      <td>2054.270609</td>\n",
       "      <td>419.167327</td>\n",
       "    </tr>\n",
       "    <tr>\n",
       "      <th>std</th>\n",
       "      <td>228.785054</td>\n",
       "      <td>85.366768</td>\n",
       "      <td>31.243562</td>\n",
       "      <td>1.287378</td>\n",
       "      <td>7.697998</td>\n",
       "      <td>8989.229895</td>\n",
       "      <td>1796.537828</td>\n",
       "    </tr>\n",
       "    <tr>\n",
       "      <th>min</th>\n",
       "      <td>1.000000</td>\n",
       "      <td>1.000000</td>\n",
       "      <td>1.000000</td>\n",
       "      <td>0.000000</td>\n",
       "      <td>1.000000</td>\n",
       "      <td>3.750000</td>\n",
       "      <td>3.450000</td>\n",
       "    </tr>\n",
       "    <tr>\n",
       "      <th>25%</th>\n",
       "      <td>17.000000</td>\n",
       "      <td>16.000000</td>\n",
       "      <td>13.000000</td>\n",
       "      <td>2.612131</td>\n",
       "      <td>1.000000</td>\n",
       "      <td>307.415000</td>\n",
       "      <td>178.625000</td>\n",
       "    </tr>\n",
       "    <tr>\n",
       "      <th>50%</th>\n",
       "      <td>41.000000</td>\n",
       "      <td>35.000000</td>\n",
       "      <td>23.000000</td>\n",
       "      <td>3.478995</td>\n",
       "      <td>2.000000</td>\n",
       "      <td>674.485000</td>\n",
       "      <td>293.900000</td>\n",
       "    </tr>\n",
       "    <tr>\n",
       "      <th>75%</th>\n",
       "      <td>100.000000</td>\n",
       "      <td>77.000000</td>\n",
       "      <td>42.000000</td>\n",
       "      <td>4.327716</td>\n",
       "      <td>5.000000</td>\n",
       "      <td>1661.740000</td>\n",
       "      <td>430.113750</td>\n",
       "    </tr>\n",
       "    <tr>\n",
       "      <th>max</th>\n",
       "      <td>7847.000000</td>\n",
       "      <td>1787.000000</td>\n",
       "      <td>542.000000</td>\n",
       "      <td>8.335226</td>\n",
       "      <td>209.000000</td>\n",
       "      <td>280206.020000</td>\n",
       "      <td>84236.250000</td>\n",
       "    </tr>\n",
       "  </tbody>\n",
       "</table>\n",
       "</div>"
      ],
      "text/plain": [
       "                 I           Iu         Imax      Entropy    BasketNum  \\\n",
       "count  4338.000000  4338.000000  4338.000000  4338.000000  4338.000000   \n",
       "mean     91.720839    61.501153    32.086445     3.432994     4.272015   \n",
       "std     228.785054    85.366768    31.243562     1.287378     7.697998   \n",
       "min       1.000000     1.000000     1.000000     0.000000     1.000000   \n",
       "25%      17.000000    16.000000    13.000000     2.612131     1.000000   \n",
       "50%      41.000000    35.000000    23.000000     3.478995     2.000000   \n",
       "75%     100.000000    77.000000    42.000000     4.327716     5.000000   \n",
       "max    7847.000000  1787.000000   542.000000     8.335226   209.000000   \n",
       "\n",
       "              SumExp        AvgExp  \n",
       "count    4338.000000   4338.000000  \n",
       "mean     2054.270609    419.167327  \n",
       "std      8989.229895   1796.537828  \n",
       "min         3.750000      3.450000  \n",
       "25%       307.415000    178.625000  \n",
       "50%       674.485000    293.900000  \n",
       "75%      1661.740000    430.113750  \n",
       "max    280206.020000  84236.250000  "
      ]
     },
     "execution_count": 88,
     "metadata": {},
     "output_type": "execute_result"
    }
   ],
   "source": [
    "df_customer.describe()"
   ]
  },
  {
   "cell_type": "code",
   "execution_count": 89,
   "id": "0b29e793",
   "metadata": {},
   "outputs": [
    {
     "data": {
      "text/plain": [
       "<AxesSubplot:>"
      ]
     },
     "execution_count": 89,
     "metadata": {},
     "output_type": "execute_result"
    },
    {
     "data": {
      "image/png": "[encoded data removed]",
      "text/plain": [
       "<Figure size 432x288 with 1 Axes>"
      ]
     },
     "metadata": {},
     "output_type": "display_data"
    }
   ],
   "source": [
    "df_customer.boxplot()"
   ]
  },
  {
   "cell_type": "code",
   "execution_count": 90,
   "id": "470e67ec",
   "metadata": {},
   "outputs": [
    {
     "data": {
      "text/html": [
       "<div>\n",
       "<style scoped>\n",
       "    .dataframe tbody tr th:only-of-type {\n",
       "        vertical-align: middle;\n",
       "    }\n",
       "\n",
       "    .dataframe tbody tr th {\n",
       "        vertical-align: top;\n",
       "    }\n",
       "\n",
       "    .dataframe thead th {\n",
       "        text-align: right;\n",
       "    }\n",
       "</style>\n",
       "<table border=\"1\" class=\"dataframe\">\n",
       "  <thead>\n",
       "    <tr style=\"text-align: right;\">\n",
       "      <th></th>\n",
       "      <th>I</th>\n",
       "      <th>Iu</th>\n",
       "      <th>Imax</th>\n",
       "      <th>Entropy</th>\n",
       "      <th>BasketNum</th>\n",
       "      <th>SumExp</th>\n",
       "      <th>AvgExp</th>\n",
       "    </tr>\n",
       "  </thead>\n",
       "  <tbody>\n",
       "    <tr>\n",
       "      <th>count</th>\n",
       "      <td>4171.000000</td>\n",
       "      <td>4171.000000</td>\n",
       "      <td>4171.000000</td>\n",
       "      <td>4171.000000</td>\n",
       "      <td>4171.000000</td>\n",
       "      <td>4171.000000</td>\n",
       "      <td>4171.000000</td>\n",
       "    </tr>\n",
       "    <tr>\n",
       "      <th>mean</th>\n",
       "      <td>70.315032</td>\n",
       "      <td>52.372812</td>\n",
       "      <td>28.871014</td>\n",
       "      <td>3.350154</td>\n",
       "      <td>3.579238</td>\n",
       "      <td>1327.559716</td>\n",
       "      <td>354.999266</td>\n",
       "    </tr>\n",
       "    <tr>\n",
       "      <th>std</th>\n",
       "      <td>86.624853</td>\n",
       "      <td>53.545089</td>\n",
       "      <td>22.914839</td>\n",
       "      <td>1.222166</td>\n",
       "      <td>3.794688</td>\n",
       "      <td>2058.227242</td>\n",
       "      <td>329.019302</td>\n",
       "    </tr>\n",
       "    <tr>\n",
       "      <th>min</th>\n",
       "      <td>1.000000</td>\n",
       "      <td>1.000000</td>\n",
       "      <td>1.000000</td>\n",
       "      <td>0.000000</td>\n",
       "      <td>1.000000</td>\n",
       "      <td>3.750000</td>\n",
       "      <td>3.450000</td>\n",
       "    </tr>\n",
       "    <tr>\n",
       "      <th>25%</th>\n",
       "      <td>16.000000</td>\n",
       "      <td>15.000000</td>\n",
       "      <td>12.000000</td>\n",
       "      <td>2.577585</td>\n",
       "      <td>1.000000</td>\n",
       "      <td>300.935000</td>\n",
       "      <td>176.802500</td>\n",
       "    </tr>\n",
       "    <tr>\n",
       "      <th>50%</th>\n",
       "      <td>39.000000</td>\n",
       "      <td>33.000000</td>\n",
       "      <td>23.000000</td>\n",
       "      <td>3.411811</td>\n",
       "      <td>2.000000</td>\n",
       "      <td>640.760000</td>\n",
       "      <td>287.035000</td>\n",
       "    </tr>\n",
       "    <tr>\n",
       "      <th>75%</th>\n",
       "      <td>90.000000</td>\n",
       "      <td>71.000000</td>\n",
       "      <td>39.000000</td>\n",
       "      <td>4.220842</td>\n",
       "      <td>4.000000</td>\n",
       "      <td>1521.170000</td>\n",
       "      <td>417.920000</td>\n",
       "    </tr>\n",
       "    <tr>\n",
       "      <th>max</th>\n",
       "      <td>756.000000</td>\n",
       "      <td>315.000000</td>\n",
       "      <td>125.000000</td>\n",
       "      <td>6.334695</td>\n",
       "      <td>27.000000</td>\n",
       "      <td>28754.110000</td>\n",
       "      <td>4932.130000</td>\n",
       "    </tr>\n",
       "  </tbody>\n",
       "</table>\n",
       "</div>"
      ],
      "text/plain": [
       "                 I           Iu         Imax      Entropy    BasketNum  \\\n",
       "count  4171.000000  4171.000000  4171.000000  4171.000000  4171.000000   \n",
       "mean     70.315032    52.372812    28.871014     3.350154     3.579238   \n",
       "std      86.624853    53.545089    22.914839     1.222166     3.794688   \n",
       "min       1.000000     1.000000     1.000000     0.000000     1.000000   \n",
       "25%      16.000000    15.000000    12.000000     2.577585     1.000000   \n",
       "50%      39.000000    33.000000    23.000000     3.411811     2.000000   \n",
       "75%      90.000000    71.000000    39.000000     4.220842     4.000000   \n",
       "max     756.000000   315.000000   125.000000     6.334695    27.000000   \n",
       "\n",
       "             SumExp       AvgExp  \n",
       "count   4171.000000  4171.000000  \n",
       "mean    1327.559716   354.999266  \n",
       "std     2058.227242   329.019302  \n",
       "min        3.750000     3.450000  \n",
       "25%      300.935000   176.802500  \n",
       "50%      640.760000   287.035000  \n",
       "75%     1521.170000   417.920000  \n",
       "max    28754.110000  4932.130000  "
      ]
     },
     "execution_count": 90,
     "metadata": {},
     "output_type": "execute_result"
    }
   ],
   "source": [
    "# use z-score to remove outliers\n",
    "from scipy.stats import zscore\n",
    "z_scores = zscore(df_customer)\n",
    "\n",
    "abs_z_scores = np.abs(z_scores)\n",
    "filtered_entries = (abs_z_scores < 3).all(axis=1)\n",
    "new_df = df_customer[filtered_entries]\n",
    "\n",
    "new_df.to_csv('new_df.csv', index=True, header=True)\n",
    "\n",
    "new_df.describe()"
   ]
  },
  {
   "cell_type": "code",
   "execution_count": 91,
   "id": "b59970c4",
   "metadata": {},
   "outputs": [
    {
     "data": {
      "text/plain": [
       "<AxesSubplot:>"
      ]
     },
     "execution_count": 91,
     "metadata": {},
     "output_type": "execute_result"
    },
    {
     "data": {
      "image/png": "[encoded data removed]",
      "text/plain": [
       "<Figure size 1080x1080 with 2 Axes>"
      ]
     },
     "metadata": {},
     "output_type": "display_data"
    }
   ],
   "source": [
    "corr = new_df.corr()\n",
    "sns.set(style=\"white\")\n",
    "\n",
    "\n",
    "plt.subplots(figsize=(15,15))\n",
    "cmap = sns.diverging_palette(220, 10, as_cmap=True)\n",
    "\n",
    "sns.heatmap(corr, cmap=cmap,annot=True, vmax=1,vmin=-1,\n",
    "            center=0, square=True, linewidths=0.5, cbar_kws={\"shrink\": 0.5})"
   ]
  },
  {
   "cell_type": "code",
   "execution_count": null,
   "id": "544ff707",
   "metadata": {},
   "outputs": [],
   "source": []
  }
 ],
 "metadata": {
  "kernelspec": {
   "display_name": "Python 3 (ipykernel)",
   "language": "python",
   "name": "python3"
  },
  "language_info": {
   "codemirror_mode": {
    "name": "ipython",
    "version": 3
   },
   "file_extension": ".py",
   "mimetype": "text/x-python",
   "name": "python",
   "nbconvert_exporter": "python",
   "pygments_lexer": "ipython3",
   "version": "3.9.2"
  }
 },
 "nbformat": 4,
 "nbformat_minor": 5
}
